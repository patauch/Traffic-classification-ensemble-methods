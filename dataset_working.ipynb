{
  "nbformat": 4,
  "nbformat_minor": 0,
  "metadata": {
    "colab": {
      "name": "dataset_working.ipynb",
      "provenance": [],
      "collapsed_sections": [],
      "mount_file_id": "1XwDOZ1aS1A6OaqtW1IQ1ZUC6gQXdIK1q",
      "authorship_tag": "ABX9TyNhADBN+hml4G2FjPdfVx2t",
      "include_colab_link": true
    },
    "kernelspec": {
      "display_name": "Python 3",
      "name": "python3"
    },
    "language_info": {
      "name": "python"
    }
  },
  "cells": [
    {
      "cell_type": "markdown",
      "metadata": {
        "id": "view-in-github",
        "colab_type": "text"
      },
      "source": [
        "<a href=\"https://colab.research.google.com/github/patauch/Traffic-classification-ensemble-methods/blob/main/dataset_working.ipynb\" target=\"_parent\"><img src=\"https://colab.research.google.com/assets/colab-badge.svg\" alt=\"Open In Colab\"/></a>"
      ]
    },
    {
      "cell_type": "code",
      "metadata": {
        "colab": {
          "base_uri": "https://localhost:8080/"
        },
        "id": "6A7SXHYvP467",
        "outputId": "c5127d58-d3cb-4629-b5cc-ba775e21a399"
      },
      "source": [
        "from google.colab import drive\n",
        "drive.mount('/content/drive')\n",
        "import pandas as pd\n",
        "import matplotlib.pyplot as plt\n",
        "from collections import Counter\n",
        "from sklearn.preprocessing import LabelEncoder\n",
        "from sklearn.model_selection import train_test_split\n",
        "from sklearn.ensemble import RandomForestClassifier, AdaBoostClassifier\n",
        "from sklearn.tree import DecisionTreeClassifier, export_graphviz\n",
        "from sklearn.metrics import confusion_matrix, roc_auc_score\n",
        "from collections import OrderedDict"
      ],
      "execution_count": 1,
      "outputs": [
        {
          "output_type": "stream",
          "text": [
            "Drive already mounted at /content/drive; to attempt to forcibly remount, call drive.mount(\"/content/drive\", force_remount=True).\n"
          ],
          "name": "stdout"
        }
      ]
    },
    {
      "cell_type": "code",
      "metadata": {
        "id": "1JI604dlDWyG"
      },
      "source": [
        "class DataPreproc:\n",
        "\n",
        "    def __init__(self):\n",
        "        self.data = self.load_data()\n",
        "        self.x_train, self.x_test, self.y_train, self.y_test = self.preprocessing()\n",
        "\n",
        "    def load_data(self):\n",
        "        header = [\"duration\", \"protocol_type\", \"service\", \"flag\", \"src_bytes\",\n",
        "                  \"dst_bytes\", \"land\", \"wrong_fragment\", \"urgent\", \"hot\", \n",
        "                  \"num_failed_logins\", \"logged_in\", \"num_compromised\", \"root_shell\",\n",
        "                  \"su_attempted\", \"num_root\", \"num_file_creations\", \"num_shells\", \n",
        "                  \"num_access_files\", \"num_outbound_cmds\", \"is_host_login\", \n",
        "                  \"is_guest_login\", \"count\", \"srv_count\", \"serror_rate\",\n",
        "                  \"srv_serror_rate\", \"rerror_rate\", \"srv_rerror_rate\", \n",
        "                  \"same_srv_rate\", \"diff_srv_rate\", \"srv_diff_host_rate\", \n",
        "                  \"dst_host_count\", \"dst_host_srv_count\", \"dst_host_same_srv_rate\",\n",
        "                  \"dst_host_diff_srv_rate\", \"dst_host_same_src_port_rate\",\n",
        "                  \"dst_host_srv_diff_host_rate\", \"dst_host_serror_rate\", \n",
        "                  \"dst_host_srv_serror_rate\",\"dst_host_rerror_rate\", \n",
        "                  \"dst_host_srv_rerror_rate\", \"label\", \"diff\"]\n",
        "        data_train = pd.read_csv(\"/content/drive/MyDrive/Kursach/NSL-KDD/KDDTrain+.txt\", names=header)\n",
        "        data_train.drop_duplicates(keep='first')\n",
        "        data_test = pd.read_csv(\"/content/drive/MyDrive/Kursach/NSL-KDD/KDDTest+.txt\", names=header)\n",
        "        data_test.drop_duplicates(keep='first')\n",
        "        data = pd.concat([data_train, data_test], ignore_index='true')\n",
        "        data = data.drop_duplicates(keep='first')\n",
        "        return data\n",
        "\n",
        "    def preprocessing(self):\n",
        "        norm_data = pd.concat([self.data[self.data['label'] == 'normal'][0:1300],\n",
        "                               self.data[self.data['label'] == 'neptune'][0:1300],\n",
        "                               self.data[self.data['label'] == 'satan'][0:1300],\n",
        "                               self.data[self.data['label'] == 'guess_passwd']\n",
        "                              ], ignore_index=True)\n",
        "        \n",
        "        encodings = dict()\n",
        "        for c in norm_data.columns:\n",
        "            if norm_data[c].dtype == \"object\":\n",
        "                encodings[c] = LabelEncoder()\n",
        "                norm_data[c] = encodings[c].fit_transform(norm_data[c])\n",
        "                print(encodings[c].get_params())\n",
        "        x = norm_data.loc[:, \"duration\":\"dst_host_srv_rerror_rate\"].values\n",
        "        y = norm_data.loc[:, \"label\"].values\n",
        "        return train_test_split(x, y, test_size=0.25, random_state=42)\n",
        "\n"
      ],
      "execution_count": 2,
      "outputs": []
    },
    {
      "cell_type": "code",
      "metadata": {
        "id": "oEmywpUUEtxB"
      },
      "source": [
        "def learning(x_train, y_train):\n",
        "    model_rf = RandomForestClassifier(n_estimators=25, random_state=42)\n",
        "    model_rf.fit(x_train, y_train)\n",
        "    model_ab = AdaBoostClassifier(n_estimators=23,\n",
        "                                      random_state=42)\n",
        "    model_ab.fit(x_train, y_train)\n",
        "    return model_rf, model_ab"
      ],
      "execution_count": 3,
      "outputs": []
    },
    {
      "cell_type": "code",
      "metadata": {
        "id": "oof1arY1EvYq"
      },
      "source": [
        "def testing(x_test, y_test, model_rf, model_ab):\n",
        "    results_rf = model_rf.score(x_test, y_test)\n",
        "    y_pred_rf = model_rf.predict(x_test)\n",
        "    result_ab = model_ab.score(x_test, y_test)\n",
        "    y_pred_ab = model_ab.predict(x_test)\n",
        "    print(\"Random Forest results\", results_rf)\n",
        "    print(\"Confusion matrix for Random Forest\\n\", confusion_matrix(y_test, y_pred_rf))\n",
        "    print(\"AdaBoost results\", result_ab)\n",
        "    print(\"Confusion matrix for AdaBoost\\n\", confusion_matrix(y_test, y_pred_ab))"
      ],
      "execution_count": 4,
      "outputs": []
    },
    {
      "cell_type": "code",
      "metadata": {
        "id": "qpdLT1xsTze7"
      },
      "source": [
        "def menu():\n",
        "  learning_passed = False\n",
        "  while True:\n",
        "    print(\"Choose what to do\\n\")\n",
        "    print(\"1. Start Learning\\n\")\n",
        "    if (learning_passed):\n",
        "      print(\"2. Start Testing\\n\")\n",
        "    cond = input()\n",
        "    if cond.isnumeric():\n",
        "      cond = int(cond)\n",
        "      if cond == 1:\n",
        "          print(\"Starting learning\\n\")\n",
        "          tester = DataPreproc()\n",
        "          model_rf, model_ab = learning(tester.x_train,tester.y_train)\n",
        "          learning_passed = True\n",
        "          print(\"Ended Learning\\n\")\n",
        "      elif cond == 2 and learning_passed:\n",
        "          print(\"Starting testing\\n\")\n",
        "          testing(tester.x_test, tester.y_test, model_rf, model_ab)\n",
        "          print(\"Testing Ended\\n\")\n",
        "          break\n",
        "      else:\n",
        "        print(\"Wrong input\\n\")\n",
        "    else:\n",
        "      print(\"Wrong input\\n\")"
      ],
      "execution_count": 5,
      "outputs": []
    },
    {
      "cell_type": "code",
      "metadata": {
        "colab": {
          "base_uri": "https://localhost:8080/"
        },
        "id": "p2r9nV_wVG-r",
        "outputId": "b1149110-a446-430c-959e-647640f387ab"
      },
      "source": [
        "menu()"
      ],
      "execution_count": 8,
      "outputs": [
        {
          "output_type": "stream",
          "text": [
            "Choose what to do\n",
            "\n",
            "1. Start Learning\n",
            "\n",
            "1\n",
            "Starting learning\n",
            "\n",
            "{}\n",
            "{}\n",
            "{}\n",
            "{}\n",
            "Ended Learning\n",
            "\n",
            "Choose what to do\n",
            "\n",
            "1. Start Learning\n",
            "\n",
            "2. Start Testing\n",
            "\n",
            "2\n",
            "Starting testing\n",
            "\n",
            "Random Forest results 0.9984567901234568\n",
            "Confusion matrix for Random Forest\n",
            " [[340   0   0   0]\n",
            " [  0 308   0   0]\n",
            " [  1   0 351   0]\n",
            " [  0   0   1 295]]\n",
            "AdaBoost results 0.7939814814814815\n",
            "Confusion matrix for AdaBoost\n",
            " [[127   0 213   0]\n",
            " [  0 300   8   0]\n",
            " [  0   0 310  42]\n",
            " [  1   0   3 292]]\n",
            "Testing Ended\n",
            "\n"
          ],
          "name": "stdout"
        }
      ]
    },
    {
      "cell_type": "code",
      "metadata": {
        "colab": {
          "base_uri": "https://localhost:8080/"
        },
        "id": "cOWB-eSm9AwK",
        "outputId": "ad06cbb7-9996-4e50-c517-2b2656d851ce"
      },
      "source": [
        "tester = DataPreproc()\n",
        "model_rf, model_ab = learning(tester.x_train,tester.y_train)\n",
        "header = [\"duration\",\"protocol_type\",\"service\",\"flag\",\"src_bytes\",\n",
        "    \"dst_bytes\",\"land\",\"wrong_fragment\",\"urgent\",\"hot\",\"num_failed_logins\",\n",
        "    \"logged_in\",\"num_compromised\",\"root_shell\",\"su_attempted\",\"num_root\",\n",
        "    \"num_file_creations\",\"num_shells\",\"num_access_files\",\"num_outbound_cmds\",\n",
        "    \"is_host_login\",\"is_guest_login\",\"count\",\"srv_count\",\"serror_rate\",\n",
        "    \"srv_serror_rate\",\"rerror_rate\",\"srv_rerror_rate\",\"same_srv_rate\",\n",
        "    \"diff_srv_rate\",\"srv_diff_host_rate\",\"dst_host_count\",\"dst_host_srv_count\",\n",
        "    \"dst_host_same_srv_rate\",\"dst_host_diff_srv_rate\",\"dst_host_same_src_port_rate\",\n",
        "    \"dst_host_srv_diff_host_rate\",\"dst_host_serror_rate\",\"dst_host_srv_serror_rate\",\n",
        "    \"dst_host_rerror_rate\",\"dst_host_srv_rerror_rate\",\"label\", \"diff\"]"
      ],
      "execution_count": 6,
      "outputs": [
        {
          "output_type": "stream",
          "text": [
            "{}\n",
            "{}\n",
            "{}\n",
            "{}\n"
          ],
          "name": "stdout"
        }
      ]
    },
    {
      "cell_type": "code",
      "metadata": {
        "colab": {
          "base_uri": "https://localhost:8080/",
          "height": 389
        },
        "id": "iK6RZLmg85L5",
        "outputId": "573ca5ce-1ef9-4832-832d-f5c237be5b95"
      },
      "source": [
        "ensemble_clfs = [\n",
        "    (\"RandomForestClassifier\",\n",
        "        RandomForestClassifier(warm_start=True,\n",
        "                              )),\n",
        "    (\"AdaBoost\",\n",
        "        AdaBoostClassifier())\n",
        "    ]\n",
        "error_rate = OrderedDict((label, []) for label, _ in ensemble_clfs)\n",
        "min_estimators = 1\n",
        "max_estimators = 100\n",
        "for label, model in ensemble_clfs:\n",
        "    for i in range(min_estimators, max_estimators + 1):\n",
        "        model.set_params(n_estimators=i)\n",
        "        model.fit(tester.x_train, tester.y_train)\n",
        "        error = 1 - model.score(tester.x_test,tester.y_test)\n",
        "        error_rate[label].append((i, error))\n",
        "from matplotlib.pyplot import figure\n",
        "plt.figure(figsize=(8,6))\n",
        "for label, clf_err in error_rate.items():\n",
        "    xs, ys = zip(*clf_err)\n",
        "    plt.plot(xs, ys, label=label)\n",
        "plt.xlim(min_estimators, max_estimators)\n",
        "plt.xlabel(\"n_estimators\")\n",
        "plt.ylabel(\"error rate\")\n",
        "plt.legend(loc=\"upper right\")\n",
        "plt.show()"
      ],
      "execution_count": 7,
      "outputs": [
        {
          "output_type": "display_data",
          "data": {
            "image/png": "[encoded data removed]",
            "text/plain": [
              "<Figure size 576x432 with 1 Axes>"
            ]
          },
          "metadata": {
            "tags": [],
            "needs_background": "light"
          }
        }
      ]
    },
    {
      "cell_type": "code",
      "metadata": {
        "id": "h71N0M8NkZK8"
      },
      "source": [
        "estimator = model_rf.estimators_[4]\n",
        "# Export as dot file\n",
        "export_graphviz(estimator, out_file='tree.dot', \n",
        "                feature_names = header[:-2],\n",
        "                class_names = [\"normal\", \"neptune\", \"satan\", \"guess_passwd\"],\n",
        "                rounded = True, proportion = False, \n",
        "                precision = 2, filled = True)\n",
        "\n",
        "# Convert to png using system command (requires Graphviz)\n",
        "from subprocess import call\n",
        "call(['dot', '-Tpng', 'tree.dot', '-o', 'tree.png', '-Gdpi=600'])\n",
        "\n",
        "# Display in jupyter notebook\n",
        "from IPython.display import Image\n",
        "Image(filename = 'tree.png')"
      ],
      "execution_count": null,
      "outputs": []
    },
    {
      "cell_type": "markdown",
      "metadata": {
        "id": "0qEZh1FdxbAW"
      },
      "source": [
        "Данная функция слишком затратна по памяти, поэтому результат её выполнения можно посмотреть по ссылке https://drive.google.com/file/d/1NdqTWe5EsW9geoV29njp3ceqzw4xtDsQ/view?usp=sharing"
      ]
    }
  ]
}